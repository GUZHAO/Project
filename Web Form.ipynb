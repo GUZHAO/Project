{
 "cells": [
  {
   "cell_type": "code",
   "execution_count": null,
   "metadata": {
    "collapsed": true
   },
   "outputs": [],
   "source": [
    "import os\n",
    "import sqlite3\n",
    "from flask import Flask, request, session, g, redirect, url_for, abort, render_template, flash"
   ]
  },
  {
   "cell_type": "code",
   "execution_count": null,
   "metadata": {
    "collapsed": true
   },
   "outputs": [],
   "source": [
    "app = Flask(__name__) # create the application instance :)\n",
    "app.config.from_object(__name__) # load config from this file , flaskr.py\n",
    "\n",
    "# Load default config and override config from an environment variable\n",
    "app.config.update(dict(\n",
    "    DATABASE=os.path.join(app.root_path, 'flaskr.db'),\n",
    "    SECRET_KEY='development key',\n",
    "    USERNAME='admin',\n",
    "    PASSWORD='default'\n",
    "))\n",
    "app.config.from_envvar('FLASKR_SETTINGS', silent=True)"
   ]
  },
  {
   "cell_type": "code",
   "execution_count": null,
   "metadata": {
    "collapsed": true
   },
   "outputs": [],
   "source": [
    "def connect_db():\n",
    "    \"\"\"Connects to the specific database.\"\"\"\n",
    "    rv = sqlite3.connect(app.config['DATABASE'])\n",
    "    rv.row_factory = sqlite3.Row\n",
    "    return rv"
   ]
  },
  {
   "cell_type": "code",
   "execution_count": null,
   "metadata": {
    "collapsed": true
   },
   "outputs": [],
   "source": []
  }
 ],
 "metadata": {
  "kernelspec": {
   "display_name": "Python 3",
   "language": "python",
   "name": "python3"
  },
  "language_info": {
   "codemirror_mode": {
    "name": "ipython",
    "version": 3
   },
   "file_extension": ".py",
   "mimetype": "text/x-python",
   "name": "python",
   "nbconvert_exporter": "python",
   "pygments_lexer": "ipython3",
   "version": "3.6.3"
  }
 },
 "nbformat": 4,
 "nbformat_minor": 2
}
